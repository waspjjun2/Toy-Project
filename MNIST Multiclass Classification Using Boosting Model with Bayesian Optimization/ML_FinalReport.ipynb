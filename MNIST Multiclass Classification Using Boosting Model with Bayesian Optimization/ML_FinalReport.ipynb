{
 "cells": [
  {
   "cell_type": "markdown",
   "metadata": {},
   "source": [
    "## Import & Get MNIST Data"
   ]
  },
  {
   "cell_type": "code",
   "execution_count": 1,
   "metadata": {},
   "outputs": [],
   "source": [
    "from sklearn.datasets import fetch_openml\n",
    "from sklearn import metrics\n",
    "from sklearn.metrics import roc_curve, auc\n",
    "from sklearn.metrics import roc_auc_score\n",
    "from bayes_opt import BayesianOptimization\n",
    "from sklearn.preprocessing import LabelBinarizer\n",
    "import numpy as np \n",
    "import pandas as pd \n",
    "import matplotlib.pyplot as plt\n",
    "import seaborn as sns\n",
    "import lightgbm as lgb                       # Lightgbm 패키지\n",
    "from lightgbm.sklearn import LGBMClassifier\n",
    "from sklearn.model_selection import KFold   # K-Fold CV\n",
    "from functools import partial"
   ]
  },
  {
   "cell_type": "code",
   "execution_count": 2,
   "metadata": {},
   "outputs": [],
   "source": [
    "from sklearn.preprocessing import label_binarize\n",
    "mnist = fetch_openml('mnist_784', version=1)\n",
    "X,y=mnist[\"data\"],mnist[\"target\"]\n",
    "y=y.astype(np.int)\n",
    "\n",
    "from sklearn.model_selection import train_test_split\n",
    "\n",
    "X_train, X_test, y_train, y_test = train_test_split(X, y, train_size=50000, test_size=20000, stratify=y, random_state=42)"
   ]
  },
  {
   "cell_type": "code",
   "execution_count": 3,
   "metadata": {},
   "outputs": [
    {
     "data": {
      "text/plain": [
       "((50000, 784), (50000,))"
      ]
     },
     "execution_count": 3,
     "metadata": {},
     "output_type": "execute_result"
    }
   ],
   "source": [
    "X_train.shape, y_train.shape"
   ]
  },
  {
   "cell_type": "code",
   "execution_count": null,
   "metadata": {},
   "outputs": [],
   "source": []
  },
  {
   "cell_type": "markdown",
   "metadata": {},
   "source": [
    "## LGBM Multiclass Model w/o PCA -> micro / macro F1"
   ]
  },
  {
   "cell_type": "code",
   "execution_count": 4,
   "metadata": {},
   "outputs": [],
   "source": [
    "def multiclass_roc_auc_score(y_test, y_pred, average=\"micro\"):\n",
    "    lb = LabelBinarizer()\n",
    "    lb.fit(y_test)\n",
    "    y_test = lb.transform(y_test)\n",
    "    y_pred = lb.transform(y_pred)\n",
    "    return roc_auc_score(y_test, y_pred, average=average)"
   ]
  },
  {
   "cell_type": "code",
   "execution_count": 5,
   "metadata": {},
   "outputs": [],
   "source": [
    "def lgb_cv(num_leaves, learning_rate, n_estimators, subsample, colsample_bytree, reg_alpha, reg_lambda, x_data=None, y_data=None, n_splits=5, output='score'):\n",
    "    score = 0\n",
    "    kf = KFold(n_splits=n_splits)\n",
    "    models = []\n",
    "    for train_index, valid_index in kf.split(x_data):\n",
    "        x_train, y_train = x_data[train_index], y_data[train_index]\n",
    "        x_valid, y_valid = x_data[valid_index], y_data[valid_index]\n",
    "        \n",
    "        model = lgb.LGBMClassifier(\n",
    "            num_leaves = int(num_leaves), \n",
    "            learning_rate = learning_rate, \n",
    "            n_estimators = int(n_estimators), \n",
    "            subsample = np.clip(subsample, 0, 1), \n",
    "            colsample_bytree = np.clip(colsample_bytree, 0, 1), \n",
    "            reg_alpha = reg_alpha, \n",
    "            reg_lambda = reg_lambda,\n",
    "        )\n",
    "        \n",
    "        model.fit(x_train, y_train)\n",
    "        models.append(model)\n",
    "        \n",
    "        pred = model.predict_proba(x_valid)\n",
    "        pred = [np.argmax(line) for line in pred]\n",
    "        score += multiclass_roc_auc_score(y_valid, pred,average='micro')/n_splits\n",
    "    \n",
    "    if output == 'score':\n",
    "        return score\n",
    "    if output == 'model':\n",
    "        return models"
   ]
  },
  {
   "cell_type": "code",
   "execution_count": 6,
   "metadata": {},
   "outputs": [
    {
     "name": "stdout",
     "output_type": "stream",
     "text": [
      "|   iter    |  target   | colsam... | learni... | n_esti... | num_le... | reg_alpha | reg_la... | subsample |\n",
      "-------------------------------------------------------------------------------------------------------------\n",
      "| \u001b[0m 1       \u001b[0m | \u001b[0m 0.9842  \u001b[0m | \u001b[0m 0.0708  \u001b[0m | \u001b[0m 0.08152 \u001b[0m | \u001b[0m 790.0   \u001b[0m | \u001b[0m 304.6   \u001b[0m | \u001b[0m 1.931   \u001b[0m | \u001b[0m 48.95   \u001b[0m | \u001b[0m 0.4062  \u001b[0m |\n",
      "| \u001b[0m 2       \u001b[0m | \u001b[0m 0.9706  \u001b[0m | \u001b[0m 0.7578  \u001b[0m | \u001b[0m 0.009006\u001b[0m | \u001b[0m 328.4   \u001b[0m | \u001b[0m 639.9   \u001b[0m | \u001b[0m 4.599   \u001b[0m | \u001b[0m 10.92   \u001b[0m | \u001b[0m 0.6635  \u001b[0m |\n",
      "| \u001b[0m 3       \u001b[0m | \u001b[0m 0.9833  \u001b[0m | \u001b[0m 0.6787  \u001b[0m | \u001b[0m 0.09504 \u001b[0m | \u001b[0m 299.5   \u001b[0m | \u001b[0m 640.8   \u001b[0m | \u001b[0m 3.833   \u001b[0m | \u001b[0m 20.02   \u001b[0m | \u001b[0m 0.9427  \u001b[0m |\n",
      "| \u001b[0m 4       \u001b[0m | \u001b[0m 0.9818  \u001b[0m | \u001b[0m 0.9299  \u001b[0m | \u001b[0m 0.09484 \u001b[0m | \u001b[0m 394.5   \u001b[0m | \u001b[0m 361.0   \u001b[0m | \u001b[0m 6.648   \u001b[0m | \u001b[0m 2.116   \u001b[0m | \u001b[0m 0.2322  \u001b[0m |\n",
      "| \u001b[0m 5       \u001b[0m | \u001b[0m 0.9811  \u001b[0m | \u001b[0m 0.4301  \u001b[0m | \u001b[0m 0.007886\u001b[0m | \u001b[0m 788.7   \u001b[0m | \u001b[0m 876.7   \u001b[0m | \u001b[0m 1.504   \u001b[0m | \u001b[0m 5.057   \u001b[0m | \u001b[0m 0.2709  \u001b[0m |\n",
      "| \u001b[0m 6       \u001b[0m | \u001b[0m 0.9392  \u001b[0m | \u001b[0m 0.6222  \u001b[0m | \u001b[0m 0.03011 \u001b[0m | \u001b[0m 17.29   \u001b[0m | \u001b[0m 17.06   \u001b[0m | \u001b[0m 8.005   \u001b[0m | \u001b[0m 30.57   \u001b[0m | \u001b[0m 0.4728  \u001b[0m |\n",
      "| \u001b[0m 7       \u001b[0m | \u001b[0m 0.9579  \u001b[0m | \u001b[0m 0.9608  \u001b[0m | \u001b[0m 0.02043 \u001b[0m | \u001b[0m 27.04   \u001b[0m | \u001b[0m 1.023e+0\u001b[0m | \u001b[0m 3.621   \u001b[0m | \u001b[0m 6.104   \u001b[0m | \u001b[0m 0.5903  \u001b[0m |\n",
      "| \u001b[0m 8       \u001b[0m | \u001b[0m 0.9826  \u001b[0m | \u001b[0m 0.9236  \u001b[0m | \u001b[0m 0.07958 \u001b[0m | \u001b[0m 1.022e+0\u001b[0m | \u001b[0m 1.021e+0\u001b[0m | \u001b[0m 5.735   \u001b[0m | \u001b[0m 40.48   \u001b[0m | \u001b[0m 0.8027  \u001b[0m |\n",
      "| \u001b[0m 9       \u001b[0m | \u001b[0m 0.9602  \u001b[0m | \u001b[0m 0.7199  \u001b[0m | \u001b[0m 0.003484\u001b[0m | \u001b[0m 1.018e+0\u001b[0m | \u001b[0m 17.83   \u001b[0m | \u001b[0m 1.554   \u001b[0m | \u001b[0m 48.02   \u001b[0m | \u001b[0m 0.3618  \u001b[0m |\n",
      "| \u001b[0m 10      \u001b[0m | \u001b[0m 0.9823  \u001b[0m | \u001b[0m 0.7081  \u001b[0m | \u001b[0m 0.07023 \u001b[0m | \u001b[0m 390.7   \u001b[0m | \u001b[0m 358.2   \u001b[0m | \u001b[0m 6.393   \u001b[0m | \u001b[0m 3.683   \u001b[0m | \u001b[0m 0.5116  \u001b[0m |\n",
      "=============================================================================================================\n"
     ]
    }
   ],
   "source": [
    "# 모델과 관련없는 변수 고정\n",
    "func_fixed = partial(lgb_cv, x_data=X_train, y_data=y_train, n_splits=5, output='score') \n",
    "# 베이지안 최적화 범위 설정\n",
    "lgbBO = BayesianOptimization(\n",
    "    func_fixed, \n",
    "    {\n",
    "        'num_leaves': (16, 1024),        # num_leaves,       범위(16~1024)\n",
    "        'learning_rate': (0.0001, 0.1),  # learning_rate,    범위(0.0001~0.1)\n",
    "        'n_estimators': (16, 1024),      # n_estimators,     범위(16~1024)\n",
    "        'subsample': (0, 1),             # subsample,        범위(0~1)\n",
    "        'colsample_bytree': (0, 1),      # colsample_bytree, 범위(0~1)\n",
    "        'reg_alpha': (0, 10),            # reg_alpha,        범위(0~10)\n",
    "        'reg_lambda': (0, 50),           # reg_lambda,       범위(0~50)\n",
    "    }, \n",
    "    random_state=4321                    # 시드 고정\n",
    ")\n",
    "lgbBO.maximize(init_points=5, n_iter=5)"
   ]
  },
  {
   "cell_type": "code",
   "execution_count": 7,
   "metadata": {},
   "outputs": [],
   "source": [
    "params = lgbBO.max['params']\n",
    "models = lgb_cv(\n",
    "    params['num_leaves'], \n",
    "    params['learning_rate'], \n",
    "    params['n_estimators'], \n",
    "    params['subsample'], \n",
    "    params['colsample_bytree'], \n",
    "    params['reg_alpha'], \n",
    "    params['reg_lambda'], \n",
    "    x_data=X_train, y_data=y_train, n_splits=5, output='model')"
   ]
  },
  {
   "cell_type": "code",
   "execution_count": 8,
   "metadata": {},
   "outputs": [],
   "source": [
    "##5 kfold 예측\n",
    "preds=[]\n",
    "for model in models:\n",
    "    pred = model.predict_proba(X_test)\n",
    "    preds.append(pred)\n",
    "\n",
    "pred = np.mean(preds,axis=0)\n",
    "pred = [np.argmax(line) for line in pred]"
   ]
  },
  {
   "cell_type": "code",
   "execution_count": 9,
   "metadata": {},
   "outputs": [
    {
     "name": "stdout",
     "output_type": "stream",
     "text": [
      "LGBMClassifier 0.97165\n",
      "\n",
      "              precision    recall  f1-score   support\n",
      "\n",
      "           0       0.98      0.99      0.98      1972\n",
      "           1       0.98      0.98      0.98      2250\n",
      "           2       0.97      0.97      0.97      1997\n",
      "           3       0.97      0.97      0.97      2040\n",
      "           4       0.97      0.96      0.97      1950\n",
      "           5       0.98      0.96      0.97      1804\n",
      "           6       0.97      0.98      0.98      1965\n",
      "           7       0.97      0.97      0.97      2084\n",
      "           8       0.96      0.97      0.97      1950\n",
      "           9       0.95      0.95      0.95      1988\n",
      "\n",
      "    accuracy                           0.97     20000\n",
      "   macro avg       0.97      0.97      0.97     20000\n",
      "weighted avg       0.97      0.97      0.97     20000\n",
      "\n",
      "\n",
      "[[1957    1    1    0    1    0    3    1    5    3]\n",
      " [   0 2215   12    4    2    1    3    6    6    1]\n",
      " [   7    3 1937    9    9    0    6   13   11    2]\n",
      " [   5    3   14 1970    0   12    2   12   14    8]\n",
      " [   3    5    6    0 1880    0    8    2    6   40]\n",
      " [   8    0    3   20    1 1734   18    1   13    6]\n",
      " [   9    3    1    0    6    8 1930    0    8    0]\n",
      " [   4    7   15    3    7    0    0 2021    4   23]\n",
      " [   3    4    8   12    0    6    9    3 1895   10]\n",
      " [   8    8    1   17   24    6    1   14   15 1894]]\n"
     ]
    }
   ],
   "source": [
    "#accuracy, confusion_maxtrix\n",
    "from sklearn.metrics import accuracy_score\n",
    "\n",
    "print(model.__class__.__name__, accuracy_score(y_test, pred))\n",
    "print(); print(metrics.classification_report(y_test, pred))\n",
    "print(); print(metrics.confusion_matrix(y_test, pred))"
   ]
  },
  {
   "cell_type": "code",
   "execution_count": 10,
   "metadata": {},
   "outputs": [],
   "source": [
    "### MiCRO, MACRO ->multiclass 분류 성능 지표\n",
    "n_classes=10\n",
    "fpr = dict()\n",
    "tpr = dict()\n",
    "roc_auc = dict()\n",
    "\n",
    "##타켓값을 원핫백터로 변환\n",
    "lb = LabelBinarizer()\n",
    "lb.fit(y_test)\n",
    "y_test_one_hot = lb.transform(y_test)\n",
    "pred = lb.transform(pred)\n",
    "\n",
    "for i in range(n_classes):\n",
    "    fpr[i], tpr[i], _ = roc_curve(y_test_one_hot[:, i], pred[:, i])\n",
    "    roc_auc[i] = auc(fpr[i], tpr[i])\n",
    "\n",
    "# Compute micro-average ROC curve and ROC area\n",
    "fpr[\"micro\"], tpr[\"micro\"], _ = roc_curve(y_test_one_hot.ravel(), np.array(pred).ravel())\n",
    "roc_auc[\"micro\"] = auc(fpr[\"micro\"], tpr[\"micro\"])"
   ]
  },
  {
   "cell_type": "code",
   "execution_count": 11,
   "metadata": {},
   "outputs": [
    {
     "name": "stderr",
     "output_type": "stream",
     "text": [
      "C:\\Users\\cke45\\Anaconda3\\lib\\site-packages\\ipykernel_launcher.py:8: DeprecationWarning: scipy.interp is deprecated and will be removed in SciPy 2.0.0, use numpy.interp instead\n",
      "  \n"
     ]
    }
   ],
   "source": [
    "from scipy import interp\n",
    "\n",
    "all_fpr = np.unique(np.concatenate([fpr[i] for i in range(n_classes)]))\n",
    "\n",
    "mean_tpr = np.zeros_like(all_fpr)\n",
    "\n",
    "for i in range(n_classes):\n",
    "    mean_tpr += interp(all_fpr, fpr[i], tpr[i])\n",
    "\n",
    "mean_tpr /= n_classes\n",
    "\n",
    "fpr[\"macro\"] = all_fpr\n",
    "tpr[\"macro\"] = mean_tpr\n",
    "roc_auc[\"macro\"] = auc(fpr[\"macro\"], tpr[\"macro\"])"
   ]
  },
  {
   "cell_type": "code",
   "execution_count": 12,
   "metadata": {},
   "outputs": [
    {
     "data": {
      "image/png": "[encoded data removed]",
      "text/plain": [
       "<Figure size 432x288 with 1 Axes>"
      ]
     },
     "metadata": {
      "needs_background": "light"
     },
     "output_type": "display_data"
    }
   ],
   "source": [
    "from itertools import cycle\n",
    "\n",
    "lw=2\n",
    "# Plot all ROC curves\n",
    "plt.figure()\n",
    "plt.plot(fpr[\"micro\"], tpr[\"micro\"],\n",
    "         label='micro-average ROC curve (area = {0:0.2f})'\n",
    "               ''.format(roc_auc[\"micro\"]),\n",
    "         color='deeppink', linestyle=':', linewidth=4)\n",
    "\n",
    "plt.plot(fpr[\"macro\"], tpr[\"macro\"],\n",
    "         label='macro-average ROC curve (area = {0:0.2f})'\n",
    "               ''.format(roc_auc[\"macro\"]),\n",
    "         color='green', linestyle=':', linewidth=4)\n",
    "\n",
    "colors = cycle(['aqua', 'darkorange', 'cornflowerblue'])\n",
    "\n",
    "for i, color in zip(range(n_classes), colors):\n",
    "    plt.plot(fpr[i], tpr[i], color=color, lw=lw,\n",
    "             label='ROC curve of class {0} (area = {1:0.2f})'\n",
    "             ''.format(i, roc_auc[i]))\n",
    "\n",
    "plt.plot([0, 1], [0, 1], 'k--',color='red', lw=lw)\n",
    "plt.xlim([0.0, 1.0])\n",
    "plt.ylim([0.0, 1.05])\n",
    "plt.annotate('Random Guess',(.5,.48),color='red')\n",
    "plt.xlabel('False Positive Rate')\n",
    "plt.ylabel('True Positive Rate')\n",
    "plt.title('Receiver Operating Characteristic for LightGBM - MNIST DATASET')\n",
    "plt.legend(loc=\"lower right\")\n",
    "plt.show()"
   ]
  },
  {
   "cell_type": "code",
   "execution_count": null,
   "metadata": {},
   "outputs": [],
   "source": []
  },
  {
   "cell_type": "markdown",
   "metadata": {},
   "source": [
    "## LGBM Multiclass Model w/ PCA -> micro / macro F1"
   ]
  },
  {
   "cell_type": "code",
   "execution_count": 13,
   "metadata": {},
   "outputs": [
    {
     "data": {
      "text/plain": [
       "154"
      ]
     },
     "execution_count": 13,
     "metadata": {},
     "output_type": "execute_result"
    }
   ],
   "source": [
    "## 154차원으로 축소\n",
    "from sklearn.decomposition import PCA\n",
    "\n",
    "pca = PCA()\n",
    "pca.fit(X_train)\n",
    "cumsum = np.cumsum(pca.explained_variance_ratio_)\n",
    "d = np.argmax(cumsum >= 0.95) + 1\n",
    "d"
   ]
  },
  {
   "cell_type": "code",
   "execution_count": 14,
   "metadata": {},
   "outputs": [],
   "source": [
    "from sklearn.decomposition import PCA\n",
    "rnd_pca = PCA(n_components=154, svd_solver=\"randomized\") # stochastic PCA\n",
    "X_train_reduced = rnd_pca.fit_transform(X_train)\n",
    "X_test_reduced = rnd_pca.transform(X_test)\n",
    "\n",
    "from sklearn.preprocessing import StandardScaler\n",
    "scaler = StandardScaler()\n",
    "X_train_scaled = scaler.fit_transform(X_train_reduced.astype(np.float32))\n",
    "X_test_scaled= scaler.fit_transform(X_test_reduced.astype(np.float32))"
   ]
  },
  {
   "cell_type": "code",
   "execution_count": 15,
   "metadata": {},
   "outputs": [],
   "source": [
    "params = lgbBO.max['params']\n",
    "models = lgb_cv(\n",
    "    params['num_leaves'], \n",
    "    params['learning_rate'], \n",
    "    params['n_estimators'], \n",
    "    params['subsample'], \n",
    "    params['colsample_bytree'], \n",
    "    params['reg_alpha'], \n",
    "    params['reg_lambda'], \n",
    "    x_data=X_train_scaled , y_data=y_train, n_splits=5, output='model')"
   ]
  },
  {
   "cell_type": "code",
   "execution_count": 24,
   "metadata": {},
   "outputs": [],
   "source": [
    "##5 kfold 예측\n",
    "preds=[]\n",
    "for model in models:\n",
    "    pred = model.predict_proba(X_test_scaled)\n",
    "    preds.append(pred)\n",
    "\n",
    "pred=np.mean(preds,axis=0)\n",
    "pred = [np.argmax(line) for line in pred]"
   ]
  },
  {
   "cell_type": "code",
   "execution_count": 25,
   "metadata": {},
   "outputs": [
    {
     "name": "stdout",
     "output_type": "stream",
     "text": [
      "LGBMClassifier 0.94745\n",
      "\n",
      "              precision    recall  f1-score   support\n",
      "\n",
      "           0       0.97      0.98      0.97      1972\n",
      "           1       0.98      0.98      0.98      2250\n",
      "           2       0.94      0.94      0.94      1997\n",
      "           3       0.93      0.93      0.93      2040\n",
      "           4       0.94      0.95      0.95      1950\n",
      "           5       0.93      0.92      0.93      1804\n",
      "           6       0.96      0.97      0.97      1965\n",
      "           7       0.96      0.94      0.95      2084\n",
      "           8       0.92      0.94      0.93      1950\n",
      "           9       0.93      0.92      0.92      1988\n",
      "\n",
      "    accuracy                           0.95     20000\n",
      "   macro avg       0.95      0.95      0.95     20000\n",
      "weighted avg       0.95      0.95      0.95     20000\n",
      "\n",
      "\n",
      "[[1931    0    6    1    2    6   12    2   11    1]\n",
      " [   0 2196   14    8    3   10    3   10    3    3]\n",
      " [   7    6 1887   23   15    1   12    9   36    1]\n",
      " [   2    4   30 1891    1   41    6   21   31   13]\n",
      " [   2    7   10    2 1850    2   11    2   13   51]\n",
      " [  12    2    6   52    6 1668   24    3   22    9]\n",
      " [  11    3    5    1    7   19 1908    0   11    0]\n",
      " [  10    7   17    9   20    3    1 1956    6   55]\n",
      " [  11    4   17   31    7   31    3    2 1836    8]\n",
      " [   9    7   10   25   47   13    1   32   18 1826]]\n"
     ]
    }
   ],
   "source": [
    "#accuracy, confusion_maxtrix\n",
    "print(model.__class__.__name__, accuracy_score(y_test, pred))\n",
    "print(); print(metrics.classification_report(y_test, pred))\n",
    "print(); print(metrics.confusion_matrix(y_test, pred))"
   ]
  },
  {
   "cell_type": "code",
   "execution_count": 26,
   "metadata": {},
   "outputs": [],
   "source": [
    "### MiCRO, MACRO ->multiclass 분류 성능 지표\n",
    "n_classes=10\n",
    "fpr = dict()\n",
    "tpr = dict()\n",
    "roc_auc = dict()\n",
    "\n",
    "##타켓값을 원핫백터로 변환\n",
    "lb = LabelBinarizer()\n",
    "lb.fit(y_test)\n",
    "y_test_one_hot = lb.transform(y_test)\n",
    "pred = lb.transform(pred)\n",
    "\n",
    "#클래스별로 auc값 계산\n",
    "for i in range(n_classes):\n",
    "    fpr[i], tpr[i], _ = roc_curve(y_test_one_hot[:, i], pred[:, i])\n",
    "    roc_auc[i] = auc(fpr[i], tpr[i])\n",
    "\n",
    "# Compute micro-average ROC curve and ROC area\n",
    "fpr[\"micro\"], tpr[\"micro\"], _ = roc_curve(y_test_one_hot.ravel(), np.array(pred).ravel())\n",
    "roc_auc[\"micro\"] = auc(fpr[\"micro\"], tpr[\"micro\"])"
   ]
  },
  {
   "cell_type": "code",
   "execution_count": 27,
   "metadata": {},
   "outputs": [
    {
     "name": "stderr",
     "output_type": "stream",
     "text": [
      "C:\\Users\\cke45\\Anaconda3\\lib\\site-packages\\ipykernel_launcher.py:7: DeprecationWarning: scipy.interp is deprecated and will be removed in SciPy 2.0.0, use numpy.interp instead\n",
      "  import sys\n"
     ]
    }
   ],
   "source": [
    "# macro-average ROC curve and ROC area\n",
    "all_fpr = np.unique(np.concatenate([fpr[i] for i in range(n_classes)]))\n",
    "\n",
    "mean_tpr = np.zeros_like(all_fpr)\n",
    "\n",
    "for i in range(n_classes):\n",
    "    mean_tpr += interp(all_fpr, fpr[i], tpr[i])\n",
    "\n",
    "mean_tpr /= n_classes\n",
    "\n",
    "fpr[\"macro\"] = all_fpr\n",
    "tpr[\"macro\"] = mean_tpr\n",
    "roc_auc[\"macro\"] = auc(fpr[\"macro\"], tpr[\"macro\"])"
   ]
  },
  {
   "cell_type": "code",
   "execution_count": 28,
   "metadata": {},
   "outputs": [
    {
     "data": {
      "image/png": "[encoded data removed]",
      "text/plain": [
       "<Figure size 432x288 with 1 Axes>"
      ]
     },
     "metadata": {
      "needs_background": "light"
     },
     "output_type": "display_data"
    }
   ],
   "source": [
    "lw=2\n",
    "# Plot all ROC curves\n",
    "plt.figure()\n",
    "plt.plot(fpr[\"micro\"], tpr[\"micro\"],\n",
    "         label='micro-average ROC curve (area = {0:0.2f})'\n",
    "               ''.format(roc_auc[\"micro\"]),\n",
    "         color='deeppink', linestyle=':', linewidth=4)\n",
    "\n",
    "plt.plot(fpr[\"macro\"], tpr[\"macro\"],\n",
    "         label='macro-average ROC curve (area = {0:0.2f})'\n",
    "               ''.format(roc_auc[\"macro\"]),\n",
    "         color='green', linestyle=':', linewidth=4)\n",
    "\n",
    "colors = cycle(['aqua', 'darkorange', 'cornflowerblue'])\n",
    "\n",
    "for i, color in zip(range(n_classes), colors):\n",
    "    plt.plot(fpr[i], tpr[i], color=color, lw=lw,\n",
    "             label='ROC curve of class {0} (area = {1:0.2f})'\n",
    "             ''.format(i, roc_auc[i]))\n",
    "\n",
    "plt.plot([0, 1], [0, 1], 'k--',color='red', lw=lw)\n",
    "plt.xlim([0.0, 1.0])\n",
    "plt.ylim([0.0, 1.05])\n",
    "plt.annotate('Random Guess',(.5,.48),color='red')\n",
    "plt.xlabel('False Positive Rate')\n",
    "plt.ylabel('True Positive Rate')\n",
    "plt.title('Receiver Operating Characteristic for LightGBM - MNIST DATASET')\n",
    "plt.legend(loc=\"lower right\")\n",
    "plt.show()"
   ]
  },
  {
   "cell_type": "code",
   "execution_count": null,
   "metadata": {},
   "outputs": [],
   "source": []
  },
  {
   "cell_type": "code",
   "execution_count": null,
   "metadata": {},
   "outputs": [],
   "source": []
  },
  {
   "cell_type": "code",
   "execution_count": null,
   "metadata": {},
   "outputs": [],
   "source": []
  },
  {
   "cell_type": "code",
   "execution_count": null,
   "metadata": {},
   "outputs": [],
   "source": []
  }
 ],
 "metadata": {
  "kernelspec": {
   "display_name": "Python 3",
   "language": "python",
   "name": "python3"
  },
  "language_info": {
   "codemirror_mode": {
    "name": "ipython",
    "version": 3
   },
   "file_extension": ".py",
   "mimetype": "text/x-python",
   "name": "python",
   "nbconvert_exporter": "python",
   "pygments_lexer": "ipython3",
   "version": "3.6.13"
  }
 },
 "nbformat": 4,
 "nbformat_minor": 4
}
