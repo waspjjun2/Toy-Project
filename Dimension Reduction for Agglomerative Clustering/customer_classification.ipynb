{
 "cells": [
  {
   "cell_type": "markdown",
   "id": "9a13ff94",
   "metadata": {},
   "source": [
    "# 1. 패키지 및 원 자료 로드"
   ]
  },
  {
   "cell_type": "code",
   "execution_count": 1,
   "id": "a77c648d",
   "metadata": {},
   "outputs": [],
   "source": [
    "# for viz\n",
    "import matplotlib.pyplot as plt\n",
    "import seaborn as sns\n",
    "import matplotlib.dates as mdates\n",
    "import plotly.graph_objects as go\n",
    "import plotly.express as px\n",
    "import plotly.figure_factory as ff\n",
    "%matplotlib inline\n",
    "\n",
    "# for preprocessing\n",
    "import warnings\n",
    "warnings.filterwarnings('ignore')\n",
    "import os, sys\n",
    "import numpy as np\n",
    "import pandas as pd\n",
    "from datetime import datetime \n",
    "import scipy\n",
    "import random\n",
    "import math\n",
    "from scipy.stats.mstats import winsorize\n",
    "from tqdm import tqdm\n",
    "\n",
    "# oversampling & preprocessing & cv\n",
    "from imblearn.over_sampling import SMOTE\n",
    "\n",
    "from sklearn.model_selection import RandomizedSearchCV, GridSearchCV, train_test_split\n",
    "from sklearn.preprocessing import StandardScaler, MinMaxScaler\n",
    "from sklearn.model_selection import cross_val_score, KFold, train_test_split\n",
    "\n",
    "from sklearn.ensemble import RandomForestClassifier, AdaBoostClassifier\n",
    "from sklearn.tree import DecisionTreeClassifier\n",
    "from sklearn.linear_model import LogisticRegression\n",
    "from sklearn.kernel_ridge import KernelRidge\n",
    "from sklearn import svm\n",
    "\n",
    "from sklearn.metrics import fbeta_score, make_scorer, matthews_corrcoef, accuracy_score\n",
    "from sklearn.metrics import confusion_matrix, classification_report, roc_curve, roc_auc_score\n",
    "\n",
    "from collections import  Counter\n",
    "import statsmodels.api as sm\n",
    "\n",
    "# from mlxtend.feature_selection import ExhaustiveFeatureSelector as EFS, RFE, SelectFromModel"
   ]
  },
  {
   "cell_type": "code",
   "execution_count": null,
   "id": "82477891",
   "metadata": {},
   "outputs": [],
   "source": []
  },
  {
   "cell_type": "markdown",
   "id": "da783519",
   "metadata": {},
   "source": [
    "# 2. 데이터 전처리"
   ]
  },
  {
   "cell_type": "code",
   "execution_count": 2,
   "id": "9b0f97df",
   "metadata": {},
   "outputs": [],
   "source": [
    "df = pd.read_csv('./dataset/marketing_campaign.csv',sep='\\t')\n",
    "df = df.dropna(axis=0)\n",
    "\n",
    "# Drop constant columns - Z_CostContact & Z_Revenue\n",
    "df.drop(['Z_CostContact', 'Z_Revenue'], axis=1, inplace=True) \n",
    "\n",
    "# User ID is useless for classification & Segmentation task\n",
    "df.drop(['ID'], axis=1, inplace=True) "
   ]
  },
  {
   "cell_type": "markdown",
   "id": "9767b369",
   "metadata": {},
   "source": [
    "- Income 변수 결측치 제거 및 ID, constant variable column 제거. "
   ]
  },
  {
   "cell_type": "code",
   "execution_count": 3,
   "id": "87696d9f",
   "metadata": {},
   "outputs": [],
   "source": [
    "# Change Year_Birth to Age (Age is more informative)\n",
    "df['Age'] = 2021 - df.Year_Birth.to_numpy()\n",
    "df.drop('Year_Birth', axis=1, inplace=True)"
   ]
  },
  {
   "cell_type": "markdown",
   "id": "08fcf4c3",
   "metadata": {},
   "source": [
    "- 'Year_Birth' 변수 사용해 'Age' 변수 생성 "
   ]
  },
  {
   "cell_type": "code",
   "execution_count": 4,
   "id": "a1bd4b5d",
   "metadata": {},
   "outputs": [],
   "source": [
    "index_ab = df[df['Marital_Status']=='Absurd'].index\n",
    "index_YOLO = df[df['Marital_Status']=='YOLO'].index\n",
    "\n",
    "df.drop(index_ab, inplace=True)\n",
    "df.drop(index_YOLO, inplace=True)\n",
    "\n",
    "df[\"Living_With\"]=df[\"Marital_Status\"].replace({\"Married\":\"Partner\", \"Together\":\"Partner\",\n",
    "                                                \"Widow\":\"Alone\", \"Divorced\":\"Alone\", \"Single\":\"Alone\",})\n",
    "\n",
    "df.drop('Marital_Status', axis=1, inplace=True)"
   ]
  },
  {
   "cell_type": "markdown",
   "id": "f2aec34d",
   "metadata": {},
   "source": [
    "- Marital_Status 변수에서 'Absurd'와 'YOLO' 제거하고, Partner 유무에 대한 이진 범주화."
   ]
  },
  {
   "cell_type": "code",
   "execution_count": 6,
   "id": "7c2e8c90",
   "metadata": {},
   "outputs": [],
   "source": [
    "df[\"Education\"]=df[\"Education\"].replace({\"Basic\":\"Undergraduate\",\"2n Cycle\":\"Undergraduate\",\n",
    "                                         \"Graduation\":\"Graduate\",\n",
    "                                         \"Master\":\"Postgraduate\", \"PhD\":\"Postgraduate\"})"
   ]
  },
  {
   "cell_type": "markdown",
   "id": "79b86fd2",
   "metadata": {},
   "source": [
    "- Education 변수의 범주별 빈도를 고려하여 3가지 범주로 축약"
   ]
  },
  {
   "cell_type": "code",
   "execution_count": 7,
   "id": "3e595fd2",
   "metadata": {},
   "outputs": [],
   "source": [
    "df.drop(df[(df['Income']>300000)|(df['Age']>100)].index,inplace=True)\n",
    "\n",
    "df['Dt_Customer'] = pd.to_datetime(df['Dt_Customer'])\n",
    "\n",
    "bins = [df['Dt_Customer'].min(),df['Dt_Customer'].quantile(0.25), df['Dt_Customer'].quantile(0.75),df['Dt_Customer'].max()]\n",
    "labels = ['long','normal','recent']\n",
    "cuts = pd.cut(df['Dt_Customer'], bins, right=True, labels=labels)\n",
    "\n",
    "df['Dt_Customer'] = cuts"
   ]
  },
  {
   "cell_type": "markdown",
   "id": "5d9d193d",
   "metadata": {},
   "source": [
    "- Income과 Age 변수의 이상치 제거 및 Dt_Customer 변수 long, normal, recent로 범주화."
   ]
  },
  {
   "cell_type": "code",
   "execution_count": 8,
   "id": "cd0b57c0",
   "metadata": {},
   "outputs": [],
   "source": [
    "df[\"Children\"]=df[\"Kidhome\"]+df[\"Teenhome\"]\n",
    "df[\"Family_Size\"] = df[\"Living_With\"].replace({\"Alone\": 1, \"Partner\":2})+ df[\"Children\"]\n",
    "df[\"Is_Parent\"] = np.where(df.Children> 0, 1, 0)\n",
    "\n",
    "df['Living_With'] = np.where(df.Living_With=='Partner', 1, 0)\n",
    "\n",
    "df=pd.get_dummies(df)"
   ]
  },
  {
   "cell_type": "markdown",
   "id": "a07924de",
   "metadata": {},
   "source": [
    "- 파생 변수 생성 및 dummy variable로 변환."
   ]
  },
  {
   "cell_type": "code",
   "execution_count": 9,
   "id": "458d5ad4",
   "metadata": {},
   "outputs": [
    {
     "name": "stdout",
     "output_type": "stream",
     "text": [
      "Train:  1545\n",
      "Test:  663\n",
      "N/P Sample:  Counter({0: 1305, 1: 240})\n"
     ]
    }
   ],
   "source": [
    "x_train, x_test, y_train, y_test = train_test_split(df.drop('Response', axis=1), df['Response'], test_size=0.3, random_state=20211126)\n",
    "print('Train: ', len(x_train))\n",
    "print('Test: ',  len(x_test))\n",
    "print('N/P Sample: ', Counter(y_train))"
   ]
  },
  {
   "cell_type": "markdown",
   "id": "112e5beb",
   "metadata": {},
   "source": [
    "- 성능 평가를 위한 train/test set 분할"
   ]
  },
  {
   "cell_type": "code",
   "execution_count": 10,
   "id": "ca80bf0d",
   "metadata": {},
   "outputs": [
    {
     "data": {
      "text/plain": [
       "0.8446601941747572"
      ]
     },
     "execution_count": 10,
     "metadata": {},
     "output_type": "execute_result"
    }
   ],
   "source": [
    "1305/1545"
   ]
  },
  {
   "cell_type": "code",
   "execution_count": 11,
   "id": "a55abce2",
   "metadata": {},
   "outputs": [
    {
     "data": {
      "image/png": "[encoded data removed]",
      "text/plain": [
       "<Figure size 432x288 with 1 Axes>"
      ]
     },
     "metadata": {
      "needs_background": "light"
     },
     "output_type": "display_data"
    }
   ],
   "source": [
    "data = dict(Counter(y_train))\n",
    "names = list(data.keys())\n",
    "values = list(data.values())\n",
    "\n",
    "plt.bar(range(len(data)), values, tick_label=names)\n",
    "plt.show()"
   ]
  },
  {
   "cell_type": "markdown",
   "id": "118330c1",
   "metadata": {},
   "source": [
    "- train 자료의 약 84.47%가 'respose'에 1을 답하였다. 캠페인에 찬성한 의견에 대해서 학습하기 어려울 수 있음. "
   ]
  },
  {
   "cell_type": "code",
   "execution_count": 12,
   "id": "5e6bc0ac",
   "metadata": {},
   "outputs": [
    {
     "data": {
      "text/plain": [
       "Index(['Income', 'Kidhome', 'Teenhome', 'Recency', 'MntWines', 'MntFruits',\n",
       "       'MntMeatProducts', 'MntFishProducts', 'MntSweetProducts',\n",
       "       'MntGoldProds', 'NumDealsPurchases', 'NumWebPurchases',\n",
       "       'NumCatalogPurchases', 'NumStorePurchases', 'NumWebVisitsMonth',\n",
       "       'AcceptedCmp3', 'AcceptedCmp4', 'AcceptedCmp5', 'AcceptedCmp1',\n",
       "       'AcceptedCmp2', 'Complain', 'Age', 'Living_With', 'Children',\n",
       "       'Family_Size', 'Is_Parent', 'Education_Graduate',\n",
       "       'Education_Postgraduate', 'Education_Undergraduate', 'Dt_Customer_long',\n",
       "       'Dt_Customer_normal', 'Dt_Customer_recent'],\n",
       "      dtype='object')"
      ]
     },
     "execution_count": 12,
     "metadata": {},
     "output_type": "execute_result"
    }
   ],
   "source": [
    "pd.set_option('display.max_columns', None)  \n",
    "x_train.columns"
   ]
  },
  {
   "cell_type": "markdown",
   "id": "57151a8f",
   "metadata": {},
   "source": [
    "- 범주형 변수들 각각 1,0으로 선형 종속 자명."
   ]
  },
  {
   "cell_type": "code",
   "execution_count": 14,
   "id": "358eae1a",
   "metadata": {},
   "outputs": [],
   "source": [
    "# min-max scaler 이용\n",
    "scaler = MinMaxScaler()\n",
    "scaler.fit(x_train)\n",
    "x_train_scaled = scaler.transform(x_train)\n",
    "x_test_scaled = scaler.transform(x_test)\n",
    "x_train_scaled = pd.DataFrame(x_train_scaled)\n",
    "x_test_scaled = pd.DataFrame(x_test_scaled)"
   ]
  },
  {
   "cell_type": "markdown",
   "id": "3540e56e",
   "metadata": {},
   "source": [
    "- MinMaxScaler: 모든 feature 값이 0~1사이에 있도록 데이터를 재조정한다. 이상치에 대해서 제거 해주었기 때문에, 크게 영향을 끼치지 않을 것이라 판다. 범주형 변수들에 대해서도 한번에 고려가 가능하다는 장점 반영"
   ]
  },
  {
   "cell_type": "markdown",
   "id": "897f40bd",
   "metadata": {},
   "source": [
    "- 추후 거리 개념을 통해 자료를 재 생성하고, 분류하는 method를 위해서, 기본적인 minmaxscaler 적용. 최댓값 1, 최솟값 0으로"
   ]
  },
  {
   "cell_type": "code",
   "execution_count": 15,
   "id": "633e0a7b",
   "metadata": {},
   "outputs": [
    {
     "data": {
      "text/html": [
       "<div>\n",
       "<style scoped>\n",
       "    .dataframe tbody tr th:only-of-type {\n",
       "        vertical-align: middle;\n",
       "    }\n",
       "\n",
       "    .dataframe tbody tr th {\n",
       "        vertical-align: top;\n",
       "    }\n",
       "\n",
       "    .dataframe thead th {\n",
       "        text-align: right;\n",
       "    }\n",
       "</style>\n",
       "<table border=\"1\" class=\"dataframe\">\n",
       "  <thead>\n",
       "    <tr style=\"text-align: right;\">\n",
       "      <th></th>\n",
       "      <th>0</th>\n",
       "      <th>1</th>\n",
       "      <th>2</th>\n",
       "      <th>3</th>\n",
       "      <th>4</th>\n",
       "      <th>5</th>\n",
       "      <th>6</th>\n",
       "      <th>7</th>\n",
       "      <th>8</th>\n",
       "      <th>9</th>\n",
       "      <th>10</th>\n",
       "      <th>11</th>\n",
       "      <th>12</th>\n",
       "      <th>13</th>\n",
       "      <th>14</th>\n",
       "      <th>15</th>\n",
       "      <th>16</th>\n",
       "      <th>17</th>\n",
       "      <th>18</th>\n",
       "      <th>19</th>\n",
       "      <th>20</th>\n",
       "      <th>21</th>\n",
       "      <th>22</th>\n",
       "      <th>23</th>\n",
       "      <th>24</th>\n",
       "      <th>25</th>\n",
       "      <th>26</th>\n",
       "      <th>27</th>\n",
       "      <th>28</th>\n",
       "      <th>29</th>\n",
       "      <th>30</th>\n",
       "      <th>31</th>\n",
       "    </tr>\n",
       "  </thead>\n",
       "  <tbody>\n",
       "    <tr>\n",
       "      <th>0</th>\n",
       "      <td>0.216335</td>\n",
       "      <td>0.5</td>\n",
       "      <td>0.0</td>\n",
       "      <td>0.333333</td>\n",
       "      <td>0.008038</td>\n",
       "      <td>0.000000</td>\n",
       "      <td>0.000580</td>\n",
       "      <td>0.000000</td>\n",
       "      <td>0.000000</td>\n",
       "      <td>0.022901</td>\n",
       "      <td>0.066667</td>\n",
       "      <td>0.000000</td>\n",
       "      <td>0.035714</td>\n",
       "      <td>0.153846</td>\n",
       "      <td>0.15</td>\n",
       "      <td>0.0</td>\n",
       "      <td>0.0</td>\n",
       "      <td>0.0</td>\n",
       "      <td>0.0</td>\n",
       "      <td>0.0</td>\n",
       "      <td>0.0</td>\n",
       "      <td>0.267857</td>\n",
       "      <td>0.0</td>\n",
       "      <td>0.333333</td>\n",
       "      <td>0.25</td>\n",
       "      <td>1.0</td>\n",
       "      <td>0.0</td>\n",
       "      <td>1.0</td>\n",
       "      <td>0.0</td>\n",
       "      <td>0.0</td>\n",
       "      <td>0.0</td>\n",
       "      <td>1.0</td>\n",
       "    </tr>\n",
       "    <tr>\n",
       "      <th>1</th>\n",
       "      <td>0.253242</td>\n",
       "      <td>0.5</td>\n",
       "      <td>0.0</td>\n",
       "      <td>0.565657</td>\n",
       "      <td>0.163429</td>\n",
       "      <td>0.075377</td>\n",
       "      <td>0.062609</td>\n",
       "      <td>0.015444</td>\n",
       "      <td>0.057252</td>\n",
       "      <td>0.190840</td>\n",
       "      <td>0.400000</td>\n",
       "      <td>0.259259</td>\n",
       "      <td>0.035714</td>\n",
       "      <td>0.461538</td>\n",
       "      <td>0.40</td>\n",
       "      <td>0.0</td>\n",
       "      <td>0.0</td>\n",
       "      <td>0.0</td>\n",
       "      <td>0.0</td>\n",
       "      <td>0.0</td>\n",
       "      <td>0.0</td>\n",
       "      <td>0.339286</td>\n",
       "      <td>1.0</td>\n",
       "      <td>0.333333</td>\n",
       "      <td>0.50</td>\n",
       "      <td>1.0</td>\n",
       "      <td>1.0</td>\n",
       "      <td>0.0</td>\n",
       "      <td>0.0</td>\n",
       "      <td>1.0</td>\n",
       "      <td>0.0</td>\n",
       "      <td>0.0</td>\n",
       "    </tr>\n",
       "    <tr>\n",
       "      <th>2</th>\n",
       "      <td>0.459858</td>\n",
       "      <td>0.5</td>\n",
       "      <td>0.5</td>\n",
       "      <td>0.484848</td>\n",
       "      <td>0.338245</td>\n",
       "      <td>0.361809</td>\n",
       "      <td>0.156522</td>\n",
       "      <td>0.138996</td>\n",
       "      <td>0.103053</td>\n",
       "      <td>0.206107</td>\n",
       "      <td>0.266667</td>\n",
       "      <td>0.333333</td>\n",
       "      <td>0.071429</td>\n",
       "      <td>0.923077</td>\n",
       "      <td>0.25</td>\n",
       "      <td>0.0</td>\n",
       "      <td>0.0</td>\n",
       "      <td>0.0</td>\n",
       "      <td>0.0</td>\n",
       "      <td>0.0</td>\n",
       "      <td>0.0</td>\n",
       "      <td>0.625000</td>\n",
       "      <td>1.0</td>\n",
       "      <td>0.666667</td>\n",
       "      <td>0.75</td>\n",
       "      <td>1.0</td>\n",
       "      <td>0.0</td>\n",
       "      <td>1.0</td>\n",
       "      <td>0.0</td>\n",
       "      <td>0.0</td>\n",
       "      <td>1.0</td>\n",
       "      <td>0.0</td>\n",
       "    </tr>\n",
       "    <tr>\n",
       "      <th>3</th>\n",
       "      <td>0.299869</td>\n",
       "      <td>0.0</td>\n",
       "      <td>0.5</td>\n",
       "      <td>0.090909</td>\n",
       "      <td>0.146685</td>\n",
       "      <td>0.015075</td>\n",
       "      <td>0.057971</td>\n",
       "      <td>0.100386</td>\n",
       "      <td>0.000000</td>\n",
       "      <td>0.064885</td>\n",
       "      <td>0.133333</td>\n",
       "      <td>0.259259</td>\n",
       "      <td>0.035714</td>\n",
       "      <td>0.384615</td>\n",
       "      <td>0.40</td>\n",
       "      <td>0.0</td>\n",
       "      <td>0.0</td>\n",
       "      <td>0.0</td>\n",
       "      <td>0.0</td>\n",
       "      <td>0.0</td>\n",
       "      <td>0.0</td>\n",
       "      <td>0.732143</td>\n",
       "      <td>0.0</td>\n",
       "      <td>0.333333</td>\n",
       "      <td>0.25</td>\n",
       "      <td>1.0</td>\n",
       "      <td>1.0</td>\n",
       "      <td>0.0</td>\n",
       "      <td>0.0</td>\n",
       "      <td>1.0</td>\n",
       "      <td>0.0</td>\n",
       "      <td>0.0</td>\n",
       "    </tr>\n",
       "    <tr>\n",
       "      <th>4</th>\n",
       "      <td>0.295437</td>\n",
       "      <td>0.0</td>\n",
       "      <td>0.5</td>\n",
       "      <td>0.909091</td>\n",
       "      <td>0.092431</td>\n",
       "      <td>0.015075</td>\n",
       "      <td>0.022029</td>\n",
       "      <td>0.015444</td>\n",
       "      <td>0.000000</td>\n",
       "      <td>0.225191</td>\n",
       "      <td>0.200000</td>\n",
       "      <td>0.111111</td>\n",
       "      <td>0.071429</td>\n",
       "      <td>0.307692</td>\n",
       "      <td>0.30</td>\n",
       "      <td>0.0</td>\n",
       "      <td>0.0</td>\n",
       "      <td>0.0</td>\n",
       "      <td>0.0</td>\n",
       "      <td>0.0</td>\n",
       "      <td>0.0</td>\n",
       "      <td>0.732143</td>\n",
       "      <td>1.0</td>\n",
       "      <td>0.333333</td>\n",
       "      <td>0.50</td>\n",
       "      <td>1.0</td>\n",
       "      <td>1.0</td>\n",
       "      <td>0.0</td>\n",
       "      <td>0.0</td>\n",
       "      <td>0.0</td>\n",
       "      <td>1.0</td>\n",
       "      <td>0.0</td>\n",
       "    </tr>\n",
       "    <tr>\n",
       "      <th>...</th>\n",
       "      <td>...</td>\n",
       "      <td>...</td>\n",
       "      <td>...</td>\n",
       "      <td>...</td>\n",
       "      <td>...</td>\n",
       "      <td>...</td>\n",
       "      <td>...</td>\n",
       "      <td>...</td>\n",
       "      <td>...</td>\n",
       "      <td>...</td>\n",
       "      <td>...</td>\n",
       "      <td>...</td>\n",
       "      <td>...</td>\n",
       "      <td>...</td>\n",
       "      <td>...</td>\n",
       "      <td>...</td>\n",
       "      <td>...</td>\n",
       "      <td>...</td>\n",
       "      <td>...</td>\n",
       "      <td>...</td>\n",
       "      <td>...</td>\n",
       "      <td>...</td>\n",
       "      <td>...</td>\n",
       "      <td>...</td>\n",
       "      <td>...</td>\n",
       "      <td>...</td>\n",
       "      <td>...</td>\n",
       "      <td>...</td>\n",
       "      <td>...</td>\n",
       "      <td>...</td>\n",
       "      <td>...</td>\n",
       "      <td>...</td>\n",
       "    </tr>\n",
       "    <tr>\n",
       "      <th>1540</th>\n",
       "      <td>0.415929</td>\n",
       "      <td>0.0</td>\n",
       "      <td>0.5</td>\n",
       "      <td>0.313131</td>\n",
       "      <td>0.476222</td>\n",
       "      <td>0.140704</td>\n",
       "      <td>0.082319</td>\n",
       "      <td>0.189189</td>\n",
       "      <td>0.068702</td>\n",
       "      <td>0.179389</td>\n",
       "      <td>0.133333</td>\n",
       "      <td>0.111111</td>\n",
       "      <td>0.071429</td>\n",
       "      <td>0.692308</td>\n",
       "      <td>0.40</td>\n",
       "      <td>0.0</td>\n",
       "      <td>0.0</td>\n",
       "      <td>0.0</td>\n",
       "      <td>0.0</td>\n",
       "      <td>0.0</td>\n",
       "      <td>0.0</td>\n",
       "      <td>0.375000</td>\n",
       "      <td>0.0</td>\n",
       "      <td>0.333333</td>\n",
       "      <td>0.25</td>\n",
       "      <td>1.0</td>\n",
       "      <td>0.0</td>\n",
       "      <td>0.0</td>\n",
       "      <td>1.0</td>\n",
       "      <td>1.0</td>\n",
       "      <td>0.0</td>\n",
       "      <td>0.0</td>\n",
       "    </tr>\n",
       "    <tr>\n",
       "      <th>1541</th>\n",
       "      <td>0.384207</td>\n",
       "      <td>0.0</td>\n",
       "      <td>0.0</td>\n",
       "      <td>0.454545</td>\n",
       "      <td>0.348962</td>\n",
       "      <td>0.844221</td>\n",
       "      <td>0.409275</td>\n",
       "      <td>0.308880</td>\n",
       "      <td>0.290076</td>\n",
       "      <td>0.232824</td>\n",
       "      <td>0.066667</td>\n",
       "      <td>0.111111</td>\n",
       "      <td>0.214286</td>\n",
       "      <td>0.307692</td>\n",
       "      <td>0.10</td>\n",
       "      <td>0.0</td>\n",
       "      <td>0.0</td>\n",
       "      <td>0.0</td>\n",
       "      <td>0.0</td>\n",
       "      <td>0.0</td>\n",
       "      <td>0.0</td>\n",
       "      <td>0.910714</td>\n",
       "      <td>1.0</td>\n",
       "      <td>0.000000</td>\n",
       "      <td>0.25</td>\n",
       "      <td>0.0</td>\n",
       "      <td>0.0</td>\n",
       "      <td>1.0</td>\n",
       "      <td>0.0</td>\n",
       "      <td>1.0</td>\n",
       "      <td>0.0</td>\n",
       "      <td>0.0</td>\n",
       "    </tr>\n",
       "    <tr>\n",
       "      <th>1542</th>\n",
       "      <td>0.529989</td>\n",
       "      <td>0.0</td>\n",
       "      <td>0.0</td>\n",
       "      <td>0.959596</td>\n",
       "      <td>0.328198</td>\n",
       "      <td>0.221106</td>\n",
       "      <td>0.072464</td>\n",
       "      <td>0.111969</td>\n",
       "      <td>0.076336</td>\n",
       "      <td>0.083969</td>\n",
       "      <td>0.066667</td>\n",
       "      <td>0.222222</td>\n",
       "      <td>0.250000</td>\n",
       "      <td>0.846154</td>\n",
       "      <td>0.15</td>\n",
       "      <td>0.0</td>\n",
       "      <td>1.0</td>\n",
       "      <td>1.0</td>\n",
       "      <td>0.0</td>\n",
       "      <td>0.0</td>\n",
       "      <td>0.0</td>\n",
       "      <td>0.089286</td>\n",
       "      <td>0.0</td>\n",
       "      <td>0.000000</td>\n",
       "      <td>0.00</td>\n",
       "      <td>0.0</td>\n",
       "      <td>1.0</td>\n",
       "      <td>0.0</td>\n",
       "      <td>0.0</td>\n",
       "      <td>0.0</td>\n",
       "      <td>1.0</td>\n",
       "      <td>0.0</td>\n",
       "    </tr>\n",
       "    <tr>\n",
       "      <th>1543</th>\n",
       "      <td>0.334620</td>\n",
       "      <td>0.0</td>\n",
       "      <td>0.5</td>\n",
       "      <td>0.555556</td>\n",
       "      <td>0.768922</td>\n",
       "      <td>0.000000</td>\n",
       "      <td>0.034783</td>\n",
       "      <td>0.000000</td>\n",
       "      <td>0.000000</td>\n",
       "      <td>0.091603</td>\n",
       "      <td>0.200000</td>\n",
       "      <td>0.333333</td>\n",
       "      <td>0.178571</td>\n",
       "      <td>0.307692</td>\n",
       "      <td>0.35</td>\n",
       "      <td>0.0</td>\n",
       "      <td>1.0</td>\n",
       "      <td>0.0</td>\n",
       "      <td>0.0</td>\n",
       "      <td>0.0</td>\n",
       "      <td>0.0</td>\n",
       "      <td>0.625000</td>\n",
       "      <td>0.0</td>\n",
       "      <td>0.333333</td>\n",
       "      <td>0.25</td>\n",
       "      <td>1.0</td>\n",
       "      <td>0.0</td>\n",
       "      <td>1.0</td>\n",
       "      <td>0.0</td>\n",
       "      <td>1.0</td>\n",
       "      <td>0.0</td>\n",
       "      <td>0.0</td>\n",
       "    </tr>\n",
       "    <tr>\n",
       "      <th>1544</th>\n",
       "      <td>0.323273</td>\n",
       "      <td>0.0</td>\n",
       "      <td>0.5</td>\n",
       "      <td>0.505051</td>\n",
       "      <td>0.086403</td>\n",
       "      <td>0.000000</td>\n",
       "      <td>0.012174</td>\n",
       "      <td>0.000000</td>\n",
       "      <td>0.003817</td>\n",
       "      <td>0.026718</td>\n",
       "      <td>0.066667</td>\n",
       "      <td>0.111111</td>\n",
       "      <td>0.035714</td>\n",
       "      <td>0.307692</td>\n",
       "      <td>0.20</td>\n",
       "      <td>0.0</td>\n",
       "      <td>0.0</td>\n",
       "      <td>0.0</td>\n",
       "      <td>0.0</td>\n",
       "      <td>0.0</td>\n",
       "      <td>0.0</td>\n",
       "      <td>0.660714</td>\n",
       "      <td>1.0</td>\n",
       "      <td>0.333333</td>\n",
       "      <td>0.50</td>\n",
       "      <td>1.0</td>\n",
       "      <td>1.0</td>\n",
       "      <td>0.0</td>\n",
       "      <td>0.0</td>\n",
       "      <td>0.0</td>\n",
       "      <td>0.0</td>\n",
       "      <td>1.0</td>\n",
       "    </tr>\n",
       "  </tbody>\n",
       "</table>\n",
       "<p>1545 rows × 32 columns</p>\n",
       "</div>"
      ],
      "text/plain": [
       "            0    1    2         3         4         5         6         7   \\\n",
       "0     0.216335  0.5  0.0  0.333333  0.008038  0.000000  0.000580  0.000000   \n",
       "1     0.253242  0.5  0.0  0.565657  0.163429  0.075377  0.062609  0.015444   \n",
       "2     0.459858  0.5  0.5  0.484848  0.338245  0.361809  0.156522  0.138996   \n",
       "3     0.299869  0.0  0.5  0.090909  0.146685  0.015075  0.057971  0.100386   \n",
       "4     0.295437  0.0  0.5  0.909091  0.092431  0.015075  0.022029  0.015444   \n",
       "...        ...  ...  ...       ...       ...       ...       ...       ...   \n",
       "1540  0.415929  0.0  0.5  0.313131  0.476222  0.140704  0.082319  0.189189   \n",
       "1541  0.384207  0.0  0.0  0.454545  0.348962  0.844221  0.409275  0.308880   \n",
       "1542  0.529989  0.0  0.0  0.959596  0.328198  0.221106  0.072464  0.111969   \n",
       "1543  0.334620  0.0  0.5  0.555556  0.768922  0.000000  0.034783  0.000000   \n",
       "1544  0.323273  0.0  0.5  0.505051  0.086403  0.000000  0.012174  0.000000   \n",
       "\n",
       "            8         9         10        11        12        13    14   15  \\\n",
       "0     0.000000  0.022901  0.066667  0.000000  0.035714  0.153846  0.15  0.0   \n",
       "1     0.057252  0.190840  0.400000  0.259259  0.035714  0.461538  0.40  0.0   \n",
       "2     0.103053  0.206107  0.266667  0.333333  0.071429  0.923077  0.25  0.0   \n",
       "3     0.000000  0.064885  0.133333  0.259259  0.035714  0.384615  0.40  0.0   \n",
       "4     0.000000  0.225191  0.200000  0.111111  0.071429  0.307692  0.30  0.0   \n",
       "...        ...       ...       ...       ...       ...       ...   ...  ...   \n",
       "1540  0.068702  0.179389  0.133333  0.111111  0.071429  0.692308  0.40  0.0   \n",
       "1541  0.290076  0.232824  0.066667  0.111111  0.214286  0.307692  0.10  0.0   \n",
       "1542  0.076336  0.083969  0.066667  0.222222  0.250000  0.846154  0.15  0.0   \n",
       "1543  0.000000  0.091603  0.200000  0.333333  0.178571  0.307692  0.35  0.0   \n",
       "1544  0.003817  0.026718  0.066667  0.111111  0.035714  0.307692  0.20  0.0   \n",
       "\n",
       "       16   17   18   19   20        21   22        23    24   25   26   27  \\\n",
       "0     0.0  0.0  0.0  0.0  0.0  0.267857  0.0  0.333333  0.25  1.0  0.0  1.0   \n",
       "1     0.0  0.0  0.0  0.0  0.0  0.339286  1.0  0.333333  0.50  1.0  1.0  0.0   \n",
       "2     0.0  0.0  0.0  0.0  0.0  0.625000  1.0  0.666667  0.75  1.0  0.0  1.0   \n",
       "3     0.0  0.0  0.0  0.0  0.0  0.732143  0.0  0.333333  0.25  1.0  1.0  0.0   \n",
       "4     0.0  0.0  0.0  0.0  0.0  0.732143  1.0  0.333333  0.50  1.0  1.0  0.0   \n",
       "...   ...  ...  ...  ...  ...       ...  ...       ...   ...  ...  ...  ...   \n",
       "1540  0.0  0.0  0.0  0.0  0.0  0.375000  0.0  0.333333  0.25  1.0  0.0  0.0   \n",
       "1541  0.0  0.0  0.0  0.0  0.0  0.910714  1.0  0.000000  0.25  0.0  0.0  1.0   \n",
       "1542  1.0  1.0  0.0  0.0  0.0  0.089286  0.0  0.000000  0.00  0.0  1.0  0.0   \n",
       "1543  1.0  0.0  0.0  0.0  0.0  0.625000  0.0  0.333333  0.25  1.0  0.0  1.0   \n",
       "1544  0.0  0.0  0.0  0.0  0.0  0.660714  1.0  0.333333  0.50  1.0  1.0  0.0   \n",
       "\n",
       "       28   29   30   31  \n",
       "0     0.0  0.0  0.0  1.0  \n",
       "1     0.0  1.0  0.0  0.0  \n",
       "2     0.0  0.0  1.0  0.0  \n",
       "3     0.0  1.0  0.0  0.0  \n",
       "4     0.0  0.0  1.0  0.0  \n",
       "...   ...  ...  ...  ...  \n",
       "1540  1.0  1.0  0.0  0.0  \n",
       "1541  0.0  1.0  0.0  0.0  \n",
       "1542  0.0  0.0  1.0  0.0  \n",
       "1543  0.0  1.0  0.0  0.0  \n",
       "1544  0.0  0.0  0.0  1.0  \n",
       "\n",
       "[1545 rows x 32 columns]"
      ]
     },
     "execution_count": 15,
     "metadata": {},
     "output_type": "execute_result"
    }
   ],
   "source": [
    "x_train_scaled"
   ]
  },
  {
   "cell_type": "code",
   "execution_count": 16,
   "id": "524b8a19",
   "metadata": {},
   "outputs": [
    {
     "name": "stdout",
     "output_type": "stream",
     "text": [
      "Train:  2610\n",
      "Test:  663\n",
      "N/P Sample:  Counter({0: 1305, 1: 1305})\n"
     ]
    }
   ],
   "source": [
    "sm1 = SMOTE(random_state=20211126, k_neighbors=3)\n",
    "x_train_scaled, y_train = sm1.fit_resample(x_train_scaled, y_train.ravel())\n",
    "print('Train: ', len(x_train_scaled))\n",
    "print('Test: ',  len(x_test_scaled))\n",
    "print('N/P Sample: ', Counter(y_train))"
   ]
  },
  {
   "cell_type": "code",
   "execution_count": 17,
   "id": "bdf35619",
   "metadata": {},
   "outputs": [
    {
     "data": {
      "image/png": "[encoded data removed]",
      "text/plain": [
       "<Figure size 432x288 with 1 Axes>"
      ]
     },
     "metadata": {
      "needs_background": "light"
     },
     "output_type": "display_data"
    }
   ],
   "source": [
    "data = dict(Counter(y_train))\n",
    "names = list(data.keys())\n",
    "values = list(data.values())\n",
    "\n",
    "plt.bar(range(len(data)), values, tick_label=names)\n",
    "plt.show()"
   ]
  },
  {
   "cell_type": "markdown",
   "id": "34f251a2",
   "metadata": {},
   "source": [
    "- SMOTE: KNN처럼 인근 데이터 포인트 잡아서 변동성 고려하여, 사이에 새로운 관측치들을 샘플링.(거리를 scaling 한 이유)\n",
    "\n",
    "- 이외에도 다양한 방법들이 있음 => roc curve minimizing or stratified cross validation"
   ]
  },
  {
   "cell_type": "code",
   "execution_count": 18,
   "id": "8be6a283",
   "metadata": {},
   "outputs": [],
   "source": [
    "x_train_scaled.columns = x_train.columns\n",
    "x_test_scaled.columns = x_test.columns"
   ]
  },
  {
   "cell_type": "markdown",
   "id": "b7110a67",
   "metadata": {},
   "source": [
    "# 3. Logistic Regression"
   ]
  },
  {
   "cell_type": "markdown",
   "id": "e6ea105c",
   "metadata": {},
   "source": [
    "## (1) all variables"
   ]
  },
  {
   "cell_type": "code",
   "execution_count": 85,
   "id": "450ceb0e",
   "metadata": {},
   "outputs": [
    {
     "name": "stdout",
     "output_type": "stream",
     "text": [
      "Optimization terminated successfully.\n",
      "         Current function value: 0.388358\n",
      "         Iterations 32\n"
     ]
    }
   ],
   "source": [
    "log_clf1 = sm.Logit(y_train,x_train_scaled)\n",
    "\n",
    "classifier1 = log_clf1.fit()"
   ]
  },
  {
   "cell_type": "code",
   "execution_count": 86,
   "id": "d31a0a44",
   "metadata": {},
   "outputs": [
    {
     "name": "stdout",
     "output_type": "stream",
     "text": [
      "                                       Results: Logit\n",
      "============================================================================================\n",
      "Model:                        Logit                     Pseudo R-squared:          0.440    \n",
      "Dependent Variable:           y                         AIC:                       2087.2292\n",
      "Date:                         2021-12-01 12:26          BIC:                       2263.2423\n",
      "No. Observations:             2610                      Log-Likelihood:            -1013.6  \n",
      "Df Model:                     29                        LL-Null:                   -1809.1  \n",
      "Df Residuals:                 2580                      LLR p-value:               0.0000   \n",
      "Converged:                    1.0000                    Scale:                     1.0000   \n",
      "No. Iterations:               32.0000                                                       \n",
      "--------------------------------------------------------------------------------------------\n",
      "                         Coef.     Std.Err.      z     P>|z|       [0.025         0.975]    \n",
      "--------------------------------------------------------------------------------------------\n",
      "Income                   1.1033        1.1089   0.9950 0.3197         -1.0700         3.2766\n",
      "Kidhome                  2.0408           nan      nan    nan             nan            nan\n",
      "Teenhome                -1.9090           nan      nan    nan             nan            nan\n",
      "Recency                 -3.7293        0.2359 -15.8115 0.0000         -4.1916        -3.2670\n",
      "MntWines                -1.4207        0.5019  -2.8308 0.0046         -2.4043        -0.4371\n",
      "MntFruits                0.0683        0.4271   0.1600 0.8729         -0.7689         0.9055\n",
      "MntMeatProducts          4.5647        0.7935   5.7526 0.0000          3.0095         6.1199\n",
      "MntFishProducts         -1.1856        0.4207  -2.8179 0.0048         -2.0102        -0.3610\n",
      "MntSweetProducts         0.2602        0.5039   0.5164 0.6056         -0.7274         1.2479\n",
      "MntGoldProds             0.6998        0.3654   1.9150 0.0555         -0.0164         1.4161\n",
      "NumDealsPurchases        3.3748        0.6426   5.2520 0.0000          2.1154         4.6342\n",
      "NumWebPurchases          5.1715        0.9683   5.3410 0.0000          3.2737         7.0693\n",
      "NumCatalogPurchases      5.6408        1.0201   5.5299 0.0000          3.6416         7.6401\n",
      "NumStorePurchases       -3.0303        0.3890  -7.7898 0.0000         -3.7927        -2.2678\n",
      "NumWebVisitsMonth        3.1365        0.9552   3.2835 0.0010          1.2642         5.0087\n",
      "AcceptedCmp3             2.1067        0.2155   9.7773 0.0000          1.6844         2.5290\n",
      "AcceptedCmp4             1.6445        0.2460   6.6851 0.0000          1.1624         2.1267\n",
      "AcceptedCmp5             1.9138        0.2743   6.9777 0.0000          1.3762         2.4513\n",
      "AcceptedCmp1             0.7065        0.2681   2.6356 0.0084          0.1811         1.2319\n",
      "AcceptedCmp2             1.4427        0.5646   2.5552 0.0106          0.3361         2.5492\n",
      "Complain                -1.3833        1.1618  -1.1907 0.2338         -3.6603         0.8937\n",
      "Age                     -0.0319        0.3222  -0.0989 0.9212         -0.6633         0.5996\n",
      "Living_With             -1.2443 20471831.5798  -0.0000 1.0000  -40124053.8384  40124051.3498\n",
      "Children                 0.0878 99205998.0118   0.0000 1.0000 -194440183.0656 194440183.2412\n",
      "Family_Size             -0.2452 81887326.3194  -0.0000 1.0000 -160496210.6215 160496210.1311\n",
      "Is_Parent               -0.9633        0.2658  -3.6237 0.0003         -1.4843        -0.4423\n",
      "Education_Graduate       2.0155        1.2511   1.6109 0.1072         -0.4367         4.4677\n",
      "Education_Postgraduate   2.7730        1.2555   2.2087 0.0272          0.3123         5.2336\n",
      "Education_Undergraduate  1.3244        1.2491   1.0603 0.2890         -1.1237         3.7725\n",
      "Dt_Customer_long        -1.1254        1.1362  -0.9905 0.3219         -3.3522         1.1014\n",
      "Dt_Customer_normal      -2.4172        1.1388  -2.1226 0.0338         -4.6492        -0.1852\n",
      "Dt_Customer_recent      -3.4781        1.1505  -3.0231 0.0025         -5.7331        -1.2231\n",
      "============================================================================================\n",
      "\n"
     ]
    }
   ],
   "source": [
    "print(classifier1.summary2())"
   ]
  },
  {
   "cell_type": "code",
   "execution_count": 87,
   "id": "b15fb019",
   "metadata": {},
   "outputs": [
    {
     "name": "stdout",
     "output_type": "stream",
     "text": [
      "LR k-fold AUC: 0.900822 (0.010561)\n"
     ]
    }
   ],
   "source": [
    "LR = LogisticRegression()\n",
    "\n",
    "# K-Fold Validation\n",
    "kfold = 10\n",
    "\n",
    "# ACC Score\n",
    "LR_cv_results_acc = cross_val_score(LR, x_train_scaled, y_train, cv=kfold, scoring='roc_auc')   \n",
    "msg = \"%s k-fold AUC: %f (%f)\" % ('LR', LR_cv_results_acc.mean(), LR_cv_results_acc.std())\n",
    "print(msg)"
   ]
  },
  {
   "cell_type": "markdown",
   "id": "a10e133b",
   "metadata": {},
   "source": [
    "## (2) variable selection "
   ]
  },
  {
   "cell_type": "code",
   "execution_count": 88,
   "id": "2074973c",
   "metadata": {},
   "outputs": [],
   "source": [
    "to_remove = ['Kidhome','Teenhome','Children', 'Family_Size','Income','MntSweetProducts', 'MntFruits', 'Dt_Customer_long', 'Complain', 'MntGoldProds']\n",
    "x_logit = x_train_scaled.drop(to_remove, axis=1)\n",
    "x_logit_test = x_test_scaled.drop(to_remove, axis=1)"
   ]
  },
  {
   "cell_type": "code",
   "execution_count": 89,
   "id": "907576e1",
   "metadata": {},
   "outputs": [
    {
     "name": "stdout",
     "output_type": "stream",
     "text": [
      "Optimization terminated successfully.\n",
      "         Current function value: 0.405257\n",
      "         Iterations 7\n"
     ]
    }
   ],
   "source": [
    "log_clf2 =sm.Logit(y_train,x_logit)\n",
    "\n",
    "classifier2 = log_clf2.fit()"
   ]
  },
  {
   "cell_type": "code",
   "execution_count": 90,
   "id": "d95ec31d",
   "metadata": {},
   "outputs": [
    {
     "name": "stdout",
     "output_type": "stream",
     "text": [
      "                             Results: Logit\n",
      "========================================================================\n",
      "Model:                Logit              Pseudo R-squared:   0.415      \n",
      "Dependent Variable:   y                  AIC:                2159.4432  \n",
      "Date:                 2021-12-01 12:26   BIC:                2288.5196  \n",
      "No. Observations:     2610               Log-Likelihood:     -1057.7    \n",
      "Df Model:             21                 LL-Null:            -1809.1    \n",
      "Df Residuals:         2588               LLR p-value:        8.8367e-306\n",
      "Converged:            1.0000             Scale:              1.0000     \n",
      "No. Iterations:       7.0000                                            \n",
      "------------------------------------------------------------------------\n",
      "                         Coef.  Std.Err.    z     P>|z|   [0.025  0.975]\n",
      "------------------------------------------------------------------------\n",
      "Recency                 -3.5303   0.2276 -15.5117 0.0000 -3.9764 -3.0842\n",
      "MntWines                -1.9970   0.4717  -4.2332 0.0000 -2.9216 -1.0724\n",
      "MntMeatProducts          5.5169   0.7431   7.4240 0.0000  4.0604  6.9734\n",
      "MntFishProducts         -0.8740   0.3789  -2.3063 0.0211 -1.6167 -0.1312\n",
      "NumDealsPurchases        3.1163   0.5546   5.6194 0.0000  2.0294  4.2033\n",
      "NumWebPurchases          4.2561   0.8535   4.9865 0.0000  2.5832  5.9290\n",
      "NumCatalogPurchases      5.3379   0.9610   5.5544 0.0000  3.4543  7.2215\n",
      "NumStorePurchases       -3.1182   0.3686  -8.4587 0.0000 -3.8407 -2.3957\n",
      "NumWebVisitsMonth        3.7338   0.8296   4.5008 0.0000  2.1078  5.3597\n",
      "AcceptedCmp3             2.0839   0.2051  10.1616 0.0000  1.6820  2.4859\n",
      "AcceptedCmp4             1.3319   0.2333   5.7091 0.0000  0.8746  1.7891\n",
      "AcceptedCmp5             2.2220   0.2712   8.1929 0.0000  1.6905  2.7536\n",
      "AcceptedCmp1             0.9045   0.2670   3.3871 0.0007  0.3811  1.4279\n",
      "AcceptedCmp2             1.3253   0.5653   2.3442 0.0191  0.2173  2.4334\n",
      "Age                     -0.8262   0.2900  -2.8489 0.0044 -1.3946 -0.2578\n",
      "Living_With             -1.1804   0.1194  -9.8849 0.0000 -1.4145 -0.9464\n",
      "Is_Parent               -1.1014   0.1926  -5.7190 0.0000 -1.4789 -0.7240\n",
      "Education_Graduate       1.8253   0.4188   4.3584 0.0000  1.0045  2.6462\n",
      "Education_Postgraduate   2.5149   0.4205   5.9808 0.0000  1.6907  3.3390\n",
      "Education_Undergraduate  1.0811   0.4330   2.4967 0.0125  0.2324  1.9298\n",
      "Dt_Customer_normal      -1.2344   0.1333  -9.2625 0.0000 -1.4956 -0.9732\n",
      "Dt_Customer_recent      -2.2405   0.2034 -11.0144 0.0000 -2.6392 -1.8418\n",
      "========================================================================\n",
      "\n"
     ]
    }
   ],
   "source": [
    "print(classifier2.summary2())"
   ]
  },
  {
   "cell_type": "markdown",
   "id": "eea31132",
   "metadata": {},
   "source": [
    "- 로지스틱 모형의 장점: 해석\n",
    "\n",
    "- 음의 영향 주요 변수: Recency, NumStorePurchases, Dt_Customer_recent \n",
    "\n",
    "- 구매 후 일수가 오래 지날수록 캠페인 참여 줄어든다. Store에서 구매하는 횟수가 많을수록 캠페인 참여 줄어든다. 최근에 가입할수록 캠페인 응답 X\n",
    "\n",
    "- 양의 영향 주요 변수: MntMeatProducts, NumCatalogPurchases, NumWebPurchases\n",
    "\n",
    "- 육류소비가 많은 고객과 Catalog, Web에서 구매하는 횟수가 많을수록 캠페인 참여 오즈비 증가. "
   ]
  },
  {
   "cell_type": "code",
   "execution_count": 91,
   "id": "20bb8311",
   "metadata": {},
   "outputs": [
    {
     "name": "stdout",
     "output_type": "stream",
     "text": [
      "LR k-fold AUC: 0.892443 (0.010170)\n"
     ]
    }
   ],
   "source": [
    "LR = LogisticRegression()\n",
    "\n",
    "# K-Fold Validation\n",
    "kfold = 10\n",
    "\n",
    "# ACC Score\n",
    "LR_cv_results_acc = cross_val_score(LR, x_logit, y_train, cv=kfold, scoring='roc_auc')   \n",
    "msg = \"%s k-fold AUC: %f (%f)\" % ('LR', LR_cv_results_acc.mean(), LR_cv_results_acc.std())\n",
    "print(msg)"
   ]
  },
  {
   "cell_type": "markdown",
   "id": "ce2e13b2",
   "metadata": {},
   "source": [
    "- backward selection을 사용한 logistic regression: 아주 약간 AUC 면적 감소"
   ]
  },
  {
   "cell_type": "markdown",
   "id": "107b5bf0",
   "metadata": {},
   "source": [
    "# 4. Adaboost"
   ]
  },
  {
   "cell_type": "code",
   "execution_count": 95,
   "id": "c143037a",
   "metadata": {},
   "outputs": [],
   "source": [
    "param_grid = {\n",
    "    \"learning_rate\" : [0.1, 0.4, 0.7, 1, 1.3, 1.6],\n",
    "    \"base_estimator__max_depth\" : [1, 5, 10, 15, 20, 25],\n",
    "    \"n_estimators\": [100, 200, 300, 400, 500, 600]\n",
    "             }\n",
    "\n",
    "# Validation for Boosting Tree\n",
    "clf = AdaBoostClassifier(base_estimator=DecisionTreeClassifier(), random_state=20211126)  \n",
    "\n",
    "# run grid search\n",
    "grid_search_clf = GridSearchCV(clf, param_grid=param_grid, scoring = 'roc_auc', cv=kfold)"
   ]
  },
  {
   "cell_type": "code",
   "execution_count": 96,
   "id": "26845c04",
   "metadata": {},
   "outputs": [
    {
     "data": {
      "text/plain": [
       "GridSearchCV(cv=10,\n",
       "             estimator=AdaBoostClassifier(base_estimator=DecisionTreeClassifier(),\n",
       "                                          random_state=20211126),\n",
       "             param_grid={'base_estimator__max_depth': [1, 5, 10, 15, 20, 25],\n",
       "                         'learning_rate': [0.1, 0.4, 0.7, 1, 1.3, 1.6],\n",
       "                         'n_estimators': [100, 200, 300, 400, 500, 600]},\n",
       "             scoring='roc_auc')"
      ]
     },
     "execution_count": 96,
     "metadata": {},
     "output_type": "execute_result"
    }
   ],
   "source": [
    "grid_search_clf.fit(x_train_scaled,y_train)"
   ]
  },
  {
   "cell_type": "code",
   "execution_count": 97,
   "id": "81595c34",
   "metadata": {},
   "outputs": [
    {
     "name": "stdout",
     "output_type": "stream",
     "text": [
      "{'base_estimator__max_depth': 15, 'learning_rate': 0.4, 'n_estimators': 600}\n",
      "0.9825954198473283\n"
     ]
    }
   ],
   "source": [
    "print(grid_search_clf.best_params_) \n",
    "print(grid_search_clf.best_score_)"
   ]
  },
  {
   "cell_type": "code",
   "execution_count": 102,
   "id": "47723c83",
   "metadata": {},
   "outputs": [],
   "source": [
    "param_grid = {\n",
    "    \"learning_rate\" : [0.4],\n",
    "    \"base_estimator__max_depth\" : [15],\n",
    "    \"n_estimators\": [600, 800, 1000, 1200, 1400, 1600]\n",
    "             }\n",
    "\n",
    "# Validation for Boosting Tree\n",
    "clf = AdaBoostClassifier(base_estimator=DecisionTreeClassifier(), random_state=20211126)  \n",
    "\n",
    "# run grid search\n",
    "grid_search_clf = GridSearchCV(clf, param_grid=param_grid, scoring = 'roc_auc', cv=kfold)"
   ]
  },
  {
   "cell_type": "code",
   "execution_count": 103,
   "id": "3df85817",
   "metadata": {},
   "outputs": [
    {
     "data": {
      "text/plain": [
       "GridSearchCV(cv=10,\n",
       "             estimator=AdaBoostClassifier(base_estimator=DecisionTreeClassifier(),\n",
       "                                          random_state=20211126),\n",
       "             param_grid={'base_estimator__max_depth': [15],\n",
       "                         'learning_rate': [0.4],\n",
       "                         'n_estimators': [600, 800, 1000, 1200, 1400, 1600]},\n",
       "             scoring='roc_auc')"
      ]
     },
     "execution_count": 103,
     "metadata": {},
     "output_type": "execute_result"
    }
   ],
   "source": [
    "grid_search_clf.fit(x_train_scaled,y_train)"
   ]
  },
  {
   "cell_type": "code",
   "execution_count": 104,
   "id": "64c379ef",
   "metadata": {},
   "outputs": [
    {
     "name": "stdout",
     "output_type": "stream",
     "text": [
      "{'base_estimator__max_depth': 15, 'learning_rate': 0.4, 'n_estimators': 600}\n",
      "0.9825954198473283\n"
     ]
    }
   ],
   "source": [
    "print(grid_search_clf.best_params_) \n",
    "print(grid_search_clf.best_score_)"
   ]
  },
  {
   "cell_type": "code",
   "execution_count": 182,
   "id": "d77b5011",
   "metadata": {},
   "outputs": [],
   "source": [
    "clf = AdaBoostClassifier(base_estimator=DecisionTreeClassifier(max_depth=15), learning_rate=0.4, n_estimators=600, random_state=20211126)  "
   ]
  },
  {
   "cell_type": "code",
   "execution_count": 183,
   "id": "1c006165",
   "metadata": {},
   "outputs": [
    {
     "data": {
      "text/plain": [
       "AdaBoostClassifier(base_estimator=DecisionTreeClassifier(max_depth=15),\n",
       "                   learning_rate=0.4, n_estimators=600, random_state=20211126)"
      ]
     },
     "execution_count": 183,
     "metadata": {},
     "output_type": "execute_result"
    }
   ],
   "source": [
    "clf.fit(x_train_scaled,y_train)"
   ]
  },
  {
   "cell_type": "markdown",
   "id": "caa78e98",
   "metadata": {},
   "source": [
    "## 5. SVM"
   ]
  },
  {
   "cell_type": "markdown",
   "id": "3aec9ce3",
   "metadata": {},
   "source": [
    "## (1) all variables"
   ]
  },
  {
   "cell_type": "code",
   "execution_count": 113,
   "id": "f78aa809",
   "metadata": {},
   "outputs": [],
   "source": [
    "SVM=svm.SVC(kernel = 'rbf')\n",
    "param_grid = {'gamma': [0.1, 0.5, 1, 2, 4],\n",
    "                 'C' : [0.5, 1, 2.5, 5, 7.5, 10]}\n",
    "grid = GridSearchCV(SVM, param_grid=param_grid, \n",
    "                    scoring=['roc_auc'], refit='roc_auc',\n",
    "                    return_train_score=True, cv=kfold)"
   ]
  },
  {
   "cell_type": "code",
   "execution_count": 114,
   "id": "8f613f37",
   "metadata": {},
   "outputs": [
    {
     "data": {
      "text/plain": [
       "GridSearchCV(cv=10, estimator=SVC(),\n",
       "             param_grid={'C': [0.5, 1, 2.5, 5, 7.5, 10],\n",
       "                         'gamma': [0.1, 0.5, 1, 2, 4]},\n",
       "             refit='roc_auc', return_train_score=True, scoring=['roc_auc'])"
      ]
     },
     "execution_count": 114,
     "metadata": {},
     "output_type": "execute_result"
    }
   ],
   "source": [
    "grid.fit(x_train_scaled, y_train)"
   ]
  },
  {
   "cell_type": "code",
   "execution_count": 115,
   "id": "d1f80dca",
   "metadata": {},
   "outputs": [
    {
     "name": "stdout",
     "output_type": "stream",
     "text": [
      "{'C': 7.5, 'gamma': 2}\n",
      "0.986699941280094\n"
     ]
    }
   ],
   "source": [
    "print(grid.best_params_) \n",
    "print(grid.best_score_) "
   ]
  },
  {
   "cell_type": "code",
   "execution_count": 136,
   "id": "aa6a8b17",
   "metadata": {},
   "outputs": [],
   "source": [
    "SVMmodel1=svm.SVC(kernel = 'rbf', gamma=2, C=7.5, random_state=20211126, probability=True)"
   ]
  },
  {
   "cell_type": "code",
   "execution_count": 137,
   "id": "c3dd4e1c",
   "metadata": {},
   "outputs": [
    {
     "data": {
      "text/plain": [
       "SVC(C=7.5, gamma=2, probability=True, random_state=20211126)"
      ]
     },
     "execution_count": 137,
     "metadata": {},
     "output_type": "execute_result"
    }
   ],
   "source": [
    "SVMmodel1.fit(x_train_scaled, y_train)"
   ]
  },
  {
   "cell_type": "markdown",
   "id": "4d0461bf",
   "metadata": {},
   "source": [
    "## (2) variable selection1: using logistic regression coeff"
   ]
  },
  {
   "cell_type": "markdown",
   "id": "9fa230e2",
   "metadata": {},
   "source": [
    "- 비선형 서포트 벡터 머신에 피쳐 선택을 사용하는 것은 일반적으로 좋지 않은 아이디어라고 생각된다. 일반적으로 피쳐 선택을 위한 노력이 일반화 성능을 저하시킨다는 것. 따라서, logistic regression 결과에 의한 coefficient로 비교하고자 함. "
   ]
  },
  {
   "cell_type": "code",
   "execution_count": 168,
   "id": "8dcfd8d5",
   "metadata": {},
   "outputs": [],
   "source": [
    "SVM=svm.SVC(kernel = 'rbf')\n",
    "param_grid = {'gamma': [0.5, 1, 2, 4, 6, 8],\n",
    "                 'C' : [0.5, 1, 2.5, 5, 7.5, 10]}\n",
    "grid = GridSearchCV(SVM, param_grid=param_grid, \n",
    "                    scoring=['roc_auc'], refit='roc_auc',\n",
    "                    return_train_score=True, cv=kfold)"
   ]
  },
  {
   "cell_type": "code",
   "execution_count": 169,
   "id": "63271804",
   "metadata": {},
   "outputs": [
    {
     "data": {
      "text/plain": [
       "GridSearchCV(cv=10, estimator=SVC(),\n",
       "             param_grid={'C': [0.5, 1, 2.5, 5, 7.5, 10],\n",
       "                         'gamma': [0.5, 1, 2, 4, 6, 8]},\n",
       "             refit='roc_auc', return_train_score=True, scoring=['roc_auc'])"
      ]
     },
     "execution_count": 169,
     "metadata": {},
     "output_type": "execute_result"
    }
   ],
   "source": [
    "grid.fit(x_logit, y_train)"
   ]
  },
  {
   "cell_type": "code",
   "execution_count": 170,
   "id": "f802c324",
   "metadata": {},
   "outputs": [
    {
     "name": "stdout",
     "output_type": "stream",
     "text": [
      "{'C': 5, 'gamma': 6}\n",
      "0.9818379330593071\n"
     ]
    }
   ],
   "source": [
    "print(grid.best_params_) \n",
    "print(grid.best_score_) "
   ]
  },
  {
   "cell_type": "code",
   "execution_count": 171,
   "id": "80dec0a0",
   "metadata": {},
   "outputs": [],
   "source": [
    "SVMmodel2=svm.SVC(kernel = 'rbf', gamma=6, C=5, random_state=20211126, probability=True)"
   ]
  },
  {
   "cell_type": "code",
   "execution_count": 173,
   "id": "d0d9bda5",
   "metadata": {},
   "outputs": [
    {
     "data": {
      "text/plain": [
       "SVC(C=5, gamma=6, probability=True, random_state=20211126)"
      ]
     },
     "execution_count": 173,
     "metadata": {},
     "output_type": "execute_result"
    }
   ],
   "source": [
    "SVMmodel2.fit(x_logit, y_train)"
   ]
  },
  {
   "cell_type": "markdown",
   "id": "aecb8c30",
   "metadata": {},
   "source": [
    "# 6. test set performance"
   ]
  },
  {
   "cell_type": "markdown",
   "id": "fd48d5a0",
   "metadata": {},
   "source": [
    "## (1) Logistic: all variables"
   ]
  },
  {
   "cell_type": "code",
   "execution_count": 92,
   "id": "1082b99d",
   "metadata": {},
   "outputs": [
    {
     "data": {
      "text/plain": [
       "0.9062283869976178"
      ]
     },
     "execution_count": 92,
     "metadata": {},
     "output_type": "execute_result"
    }
   ],
   "source": [
    "pred1 = classifier1.predict(x_test_scaled)\n",
    "roc_auc_score(y_test, pred1)"
   ]
  },
  {
   "cell_type": "markdown",
   "id": "1bd88b1c",
   "metadata": {},
   "source": [
    "## (2) Logistic: variable selection"
   ]
  },
  {
   "cell_type": "code",
   "execution_count": 94,
   "id": "657fcda4",
   "metadata": {},
   "outputs": [
    {
     "data": {
      "text/plain": [
       "0.9098977945131791"
      ]
     },
     "execution_count": 94,
     "metadata": {},
     "output_type": "execute_result"
    }
   ],
   "source": [
    "pred2 = classifier2.predict(x_logit_test)\n",
    "roc_auc_score(y_test, pred2)"
   ]
  },
  {
   "cell_type": "markdown",
   "id": "786a6b88",
   "metadata": {},
   "source": [
    "## (3) Adaboost"
   ]
  },
  {
   "cell_type": "code",
   "execution_count": 185,
   "id": "9620accf",
   "metadata": {},
   "outputs": [
    {
     "data": {
      "text/plain": [
       "0.7007992007992008"
      ]
     },
     "execution_count": 185,
     "metadata": {},
     "output_type": "execute_result"
    }
   ],
   "source": [
    "roc_auc_score(y_test, clf.predict(x_test_scaled))"
   ]
  },
  {
   "cell_type": "markdown",
   "id": "f86d537f",
   "metadata": {},
   "source": [
    "## (4) SVM: all variables"
   ]
  },
  {
   "cell_type": "code",
   "execution_count": 139,
   "id": "fd295f2d",
   "metadata": {},
   "outputs": [
    {
     "data": {
      "text/plain": [
       "0.6542207792207793"
      ]
     },
     "execution_count": 139,
     "metadata": {},
     "output_type": "execute_result"
    }
   ],
   "source": [
    "roc_auc_score(y_test, SVMmodel1.predict(x_test_scaled))"
   ]
  },
  {
   "cell_type": "markdown",
   "id": "6d3b0620",
   "metadata": {},
   "source": [
    "## (5) SVM: variable selection"
   ]
  },
  {
   "cell_type": "code",
   "execution_count": 179,
   "id": "a276a28e",
   "metadata": {},
   "outputs": [
    {
     "data": {
      "text/plain": [
       "0.6449800199800201"
      ]
     },
     "execution_count": 179,
     "metadata": {},
     "output_type": "execute_result"
    }
   ],
   "source": [
    "roc_auc_score(y_test, SVMmodel2.predict(x_logit_test))"
   ]
  },
  {
   "cell_type": "markdown",
   "id": "72cacf39",
   "metadata": {},
   "source": [
    "# 7. ROC curve comparision"
   ]
  },
  {
   "cell_type": "code",
   "execution_count": 187,
   "id": "286b93b6",
   "metadata": {},
   "outputs": [],
   "source": [
    "pred = classifier.predict(x_logit_test)\n",
    "pred1 = clf.predict_proba(x_test_scaled)\n",
    "pred2 = SVMmodel1.predict_proba(x_test_scaled)"
   ]
  },
  {
   "cell_type": "code",
   "execution_count": 188,
   "id": "d1d47c35",
   "metadata": {},
   "outputs": [],
   "source": [
    "fper, tper, thresholds = roc_curve(y_test, pred)\n",
    "pred1 = pred1[:,1]\n",
    "fper1, tper1, thresholds1 = roc_curve(y_test, pred1)\n",
    "pred2 = pred2[:,1]\n",
    "fper2, tper2, thresholds2 = roc_curve(y_test, pred2)"
   ]
  },
  {
   "cell_type": "code",
   "execution_count": 189,
   "id": "66421b19",
   "metadata": {},
   "outputs": [
    {
     "data": {
      "image/png": "[encoded data removed]",
      "text/plain": [
       "<Figure size 432x288 with 1 Axes>"
      ]
     },
     "metadata": {
      "needs_background": "light"
     },
     "output_type": "display_data"
    }
   ],
   "source": [
    "plt.plot(fper, tper, color='red', label='Logistic')\n",
    "plt.plot(fper1, tper1, color='blue', label='Adaboost')\n",
    "plt.plot(fper2, tper2, color='black', label='SVM')\n",
    "plt.plot([0, 1], [0, 1], color='green', linestyle='--')\n",
    "plt.xlabel('False Positive Rate')\n",
    "plt.ylabel('True Positive Rate')\n",
    "plt.title('Receiver Operating Characteristic Curve')\n",
    "plt.legend()\n",
    "plt.show()"
   ]
  },
  {
   "cell_type": "markdown",
   "id": "b639fd1c",
   "metadata": {},
   "source": [
    "# 8. Confusion Matrix"
   ]
  },
  {
   "cell_type": "code",
   "execution_count": 191,
   "id": "74b4b2f2",
   "metadata": {},
   "outputs": [],
   "source": [
    "predictions1 = np.zeros(663)\n",
    "predictions2 = np.zeros(663)\n",
    "predictions3 = np.zeros(663)\n",
    "predictions1[pred>0.5] = 1\n",
    "predictions1[pred <= 0.5] = 0\n",
    "predictions2[pred>0.7] = 1\n",
    "predictions2[pred <= 0.7] = 0\n",
    "predictions3[pred>0.9] = 1\n",
    "predictions3[pred <= 0.9] = 0"
   ]
  },
  {
   "cell_type": "code",
   "execution_count": 192,
   "id": "387ceca9",
   "metadata": {},
   "outputs": [
    {
     "name": "stdout",
     "output_type": "stream",
     "text": [
      "Test ACC:  0.8280542986425339\n",
      "              precision    recall  f1-score   support\n",
      "\n",
      "           0       0.96      0.83      0.89       572\n",
      "           1       0.43      0.79      0.56        91\n",
      "\n",
      "    accuracy                           0.83       663\n",
      "   macro avg       0.70      0.81      0.73       663\n",
      "weighted avg       0.89      0.83      0.85       663\n",
      "\n"
     ]
    }
   ],
   "source": [
    "print('Test ACC: ', accuracy_score(predictions1, y_test)) # cut_off:0.5\n",
    "print(classification_report(y_test, predictions1))"
   ]
  },
  {
   "cell_type": "code",
   "execution_count": 193,
   "id": "d0e18b5a",
   "metadata": {},
   "outputs": [
    {
     "name": "stdout",
     "output_type": "stream",
     "text": [
      "Test ACC:  0.8883861236802413\n",
      "              precision    recall  f1-score   support\n",
      "\n",
      "           0       0.94      0.92      0.93       572\n",
      "           1       0.58      0.66      0.62        91\n",
      "\n",
      "    accuracy                           0.89       663\n",
      "   macro avg       0.76      0.79      0.78       663\n",
      "weighted avg       0.89      0.89      0.89       663\n",
      "\n"
     ]
    }
   ],
   "source": [
    "print('Test ACC: ', accuracy_score(predictions2, y_test)) # cut_off:0.7\n",
    "print(classification_report(y_test, predictions2))"
   ]
  },
  {
   "cell_type": "code",
   "execution_count": 194,
   "id": "a79f83eb",
   "metadata": {},
   "outputs": [
    {
     "name": "stdout",
     "output_type": "stream",
     "text": [
      "Test ACC:  0.9079939668174962\n",
      "              precision    recall  f1-score   support\n",
      "\n",
      "           0       0.91      0.99      0.95       572\n",
      "           1       0.83      0.42      0.55        91\n",
      "\n",
      "    accuracy                           0.91       663\n",
      "   macro avg       0.87      0.70      0.75       663\n",
      "weighted avg       0.90      0.91      0.89       663\n",
      "\n"
     ]
    }
   ],
   "source": [
    "print('Test ACC: ', accuracy_score(predictions3, y_test)) # cut_off:0.9\n",
    "print(classification_report(y_test, predictions3))"
   ]
  },
  {
   "cell_type": "markdown",
   "id": "13623cef",
   "metadata": {},
   "source": [
    "- precision: 예측 한 것이 실제 맞는 경우.\n",
    "- recall: 실제 target 값을 예측이 맞추는 경우.\n",
    "\n",
    "- 원하는 목표에 맞춰서 cut-off value를 설정할 수 있다. \n",
    "\n",
    "- 실제 1인 것들에 대해서 보수적으로 잘 맞춰주는 게 중요하다면, 0.5 (최대한 많은 고객으로부터 캠페인 이끌어내기)\n",
    "- 1로 예측한 것들이 잘 맞추는 것이 중요하다면, 0.9 (비용절감)"
   ]
  },
  {
   "cell_type": "code",
   "execution_count": 195,
   "id": "0fd8c1b1",
   "metadata": {},
   "outputs": [
    {
     "data": {
      "text/plain": [
       "0    572\n",
       "1     91\n",
       "Name: Response, dtype: int64"
      ]
     },
     "execution_count": 195,
     "metadata": {},
     "output_type": "execute_result"
    }
   ],
   "source": [
    "y_test.value_counts()"
   ]
  },
  {
   "cell_type": "code",
   "execution_count": 98,
   "id": "aa3e4897",
   "metadata": {},
   "outputs": [
    {
     "data": {
      "text/plain": [
       "0.8627450980392157"
      ]
     },
     "execution_count": 98,
     "metadata": {},
     "output_type": "execute_result"
    }
   ],
   "source": [
    "572/(572+91)"
   ]
  },
  {
   "cell_type": "markdown",
   "id": "3f19c1bb",
   "metadata": {},
   "source": [
    "- stupid classifier에 비해 월등한 성능을 보이지는 않지만, 주 관심이 캠페인에 참여할 고객의 특성을 파악하는 것이기 때문에, 어느정도 의미있는 classification 결과라고 할 수 있다. "
   ]
  }
 ],
 "metadata": {
  "kernelspec": {
   "display_name": "Python 3",
   "language": "python",
   "name": "python3"
  },
  "language_info": {
   "codemirror_mode": {
    "name": "ipython",
    "version": 3
   },
   "file_extension": ".py",
   "mimetype": "text/x-python",
   "name": "python",
   "nbconvert_exporter": "python",
   "pygments_lexer": "ipython3",
   "version": "3.6.13"
  }
 },
 "nbformat": 4,
 "nbformat_minor": 5
}
